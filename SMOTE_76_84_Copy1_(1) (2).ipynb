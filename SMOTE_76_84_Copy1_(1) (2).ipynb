{
  "nbformat": 4,
  "nbformat_minor": 0,
  "metadata": {
    "kernelspec": {
      "display_name": "Python 3",
      "language": "python",
      "name": "python3"
    },
    "language_info": {
      "codemirror_mode": {
        "name": "ipython",
        "version": 3
      },
      "file_extension": ".py",
      "mimetype": "text/x-python",
      "name": "python",
      "nbconvert_exporter": "python",
      "pygments_lexer": "ipython3",
      "version": "3.7.7"
    },
    "colab": {
      "name": "SMOTE_76.84-Copy1 (1).ipynb",
      "provenance": [],
      "private_outputs": true
    },
    "accelerator": "GPU"
  },
  "cells": [
    {
      "cell_type": "code",
      "metadata": {
        "id": "ac_dKe2w012T"
      },
      "source": [
        "import plotly\n",
        "# data analysis and wrangling\n",
        "import pandas_profiling\n",
        "import pandas as pd\n",
        "import numpy as np\n",
        "import random as rnd\n",
        "import xgboost as xgb\n",
        "# visualization\n",
        "import seaborn as sns\n",
        "import matplotlib.pyplot as plt\n",
        "%matplotlib notebook\n",
        "\n",
        "# machine learning\n",
        "from sklearn.linear_model import LogisticRegression\n",
        "from sklearn.svm import SVC, LinearSVC\n",
        "from sklearn.ensemble import RandomForestClassifier\n",
        "from sklearn.neighbors import KNeighborsClassifier\n",
        "from sklearn.naive_bayes import GaussianNB\n",
        "from sklearn.linear_model import Perceptron\n",
        "from sklearn.linear_model import SGDClassifier\n",
        "from sklearn.tree import DecisionTreeClassifier\n",
        "from sklearn.ensemble import GradientBoostingClassifier\n",
        "from xgboost import XGBClassifier\n",
        "from sklearn import ensemble\n",
        "from sklearn import metrics\n",
        "from sklearn import model_selection\n",
        "from sklearn.preprocessing import StandardScaler, RobustScaler,MinMaxScaler\n",
        "from sklearn.preprocessing import OneHotEncoder\n",
        "from sklearn.model_selection import GridSearchCV\n",
        "from sklearn.model_selection import train_test_split\n",
        "from sklearn.model_selection import StratifiedShuffleSplit\n",
        "from imblearn.over_sampling import SMOTE\n",
        "from sklearn.metrics import roc_auc_score\n",
        "from sklearn.model_selection import cross_val_score\n",
        "from sklearn.metrics import confusion_matrix\n",
        "from sklearn.metrics import make_scorer"
      ],
      "execution_count": null,
      "outputs": []
    },
    {
      "cell_type": "code",
      "metadata": {
        "id": "r9JTVVnw012n"
      },
      "source": [
        "from plotly.offline import download_plotlyjs , init_notebook_mode , plot , iplot\n",
        "import plotly.graph_objs as go\n",
        "import plotly.express as px\n",
        "init_notebook_mode(connected = True)"
      ],
      "execution_count": null,
      "outputs": []
    },
    {
      "cell_type": "code",
      "metadata": {
        "id": "HDX7zXXN0120"
      },
      "source": [
        "data = pd.read_csv('/content/train_qnU1GcL.csv')\n",
        "\n",
        "test = pd.read_csv(r\"/content/test_rec.csv\")\n",
        "\n",
        "\n",
        "df = data.copy()\n",
        "\n",
        "df.head(5)\n",
        "\n",
        "df = df.drop(['id'] , axis = 1)"
      ],
      "execution_count": null,
      "outputs": []
    },
    {
      "cell_type": "code",
      "metadata": {
        "id": "8sn_i2RC013A"
      },
      "source": [
        "df['uwscore'] = df['uwscore'].fillna(df['uwscore'].mean())\n"
      ],
      "execution_count": null,
      "outputs": []
    },
    {
      "cell_type": "code",
      "metadata": {
        "id": "bCu0fM5B013I"
      },
      "source": [
        "df.fillna(0 , inplace = True)"
      ],
      "execution_count": null,
      "outputs": []
    },
    {
      "cell_type": "code",
      "metadata": {
        "id": "0moKfHum013Q"
      },
      "source": [
        "tst  = test.copy()"
      ],
      "execution_count": null,
      "outputs": []
    },
    {
      "cell_type": "code",
      "metadata": {
        "id": "1mZiMSH-013W"
      },
      "source": [
        "tst = tst.drop(['id'] , axis = 1)"
      ],
      "execution_count": null,
      "outputs": []
    },
    {
      "cell_type": "code",
      "metadata": {
        "id": "0N2jFC0B013c"
      },
      "source": [
        "tst['uwscore'] = tst['uwscore'].fillna(tst['uwscore'].mean())\n",
        "\n"
      ],
      "execution_count": null,
      "outputs": []
    },
    {
      "cell_type": "code",
      "metadata": {
        "id": "qm6zSiG0013i"
      },
      "source": [
        "tst.late2.fillna(1 , inplace = True)"
      ],
      "execution_count": null,
      "outputs": []
    },
    {
      "cell_type": "code",
      "metadata": {
        "id": "StU087Vi013m"
      },
      "source": [
        "tst.fillna(0 , inplace = True)"
      ],
      "execution_count": null,
      "outputs": []
    },
    {
      "cell_type": "code",
      "metadata": {
        "id": "8lbkUhel013t"
      },
      "source": [
        "tst"
      ],
      "execution_count": null,
      "outputs": []
    },
    {
      "cell_type": "code",
      "metadata": {
        "id": "wh15nccO0130"
      },
      "source": [
        "df['age'] = df['age'].div(365)"
      ],
      "execution_count": null,
      "outputs": []
    },
    {
      "cell_type": "code",
      "metadata": {
        "id": "p6b_sT_P0136"
      },
      "source": [
        "tst['age'] = tst['age'].div(365)"
      ],
      "execution_count": null,
      "outputs": []
    },
    {
      "cell_type": "code",
      "metadata": {
        "id": "om1cUrbO014A"
      },
      "source": [
        "df['Income'] = np.log(df['Income'])"
      ],
      "execution_count": null,
      "outputs": []
    },
    {
      "cell_type": "code",
      "metadata": {
        "id": "vj0MYoJz014L"
      },
      "source": [
        "tst['Income'] = np.log(tst['Income'])"
      ],
      "execution_count": null,
      "outputs": []
    },
    {
      "cell_type": "code",
      "metadata": {
        "id": "zmD1REMM014R"
      },
      "source": [
        "#df.profile_report()"
      ],
      "execution_count": null,
      "outputs": []
    },
    {
      "cell_type": "markdown",
      "metadata": {
        "id": "jp0e9k4r014W"
      },
      "source": [
        "# Performing Mean Encoding"
      ]
    },
    {
      "cell_type": "code",
      "metadata": {
        "id": "P9h_rddP014X"
      },
      "source": [
        "pd.crosstab(index = df['channel'] , columns =df['target'])"
      ],
      "execution_count": null,
      "outputs": []
    },
    {
      "cell_type": "code",
      "metadata": {
        "id": "JibncLL4014e"
      },
      "source": [
        "means = df.groupby('channel').target.mean()"
      ],
      "execution_count": null,
      "outputs": []
    },
    {
      "cell_type": "code",
      "metadata": {
        "id": "6ShEkOuP014k"
      },
      "source": [
        "df['channel'+'mean_target'] = df['channel'].map(means)"
      ],
      "execution_count": null,
      "outputs": []
    },
    {
      "cell_type": "code",
      "metadata": {
        "id": "nSMMreuM014q"
      },
      "source": [
        "tst['channel'+'mean_target'] = tst['channel'].map(means)"
      ],
      "execution_count": null,
      "outputs": []
    },
    {
      "cell_type": "code",
      "metadata": {
        "scrolled": true,
        "id": "Yvwyvr4o014v"
      },
      "source": [
        "df"
      ],
      "execution_count": null,
      "outputs": []
    },
    {
      "cell_type": "markdown",
      "metadata": {
        "id": "Y3Gmluxm0142"
      },
      "source": [
        "# NEW feature"
      ]
    },
    {
      "cell_type": "code",
      "metadata": {
        "id": "0LyyP-wU0143"
      },
      "source": [
        "\n",
        "\n",
        "num_late_months = df.late1 * 4.5 + df.late2 * 9 + df.late3 * 12\n",
        "\n",
        "df['late_months'] = num_late_months"
      ],
      "execution_count": null,
      "outputs": []
    },
    {
      "cell_type": "code",
      "metadata": {
        "id": "BiAnrTFe0149"
      },
      "source": [
        "num_late_months = tst.late1 * 4.5 + tst.late2 * 9 + tst.late3 * 12\n",
        "\n",
        "tst['late_months'] = num_late_months"
      ],
      "execution_count": null,
      "outputs": []
    },
    {
      "cell_type": "code",
      "metadata": {
        "id": "EqzRrcYG015E"
      },
      "source": [
        "In_npp = df['Income'].div(df['nppaid'])\n",
        "df['In_npp'] = In_npp"
      ],
      "execution_count": null,
      "outputs": []
    },
    {
      "cell_type": "code",
      "metadata": {
        "id": "WKlieI2o015L"
      },
      "source": [
        "In_npp = tst['Income'].div(tst['nppaid'])\n",
        "tst['In_npp'] = In_npp"
      ],
      "execution_count": null,
      "outputs": []
    },
    {
      "cell_type": "markdown",
      "metadata": {
        "id": "vWMybuLu015V"
      },
      "source": [
        "# New Feature Underscore Age"
      ]
    },
    {
      "cell_type": "code",
      "metadata": {
        "id": "LdyG8gKU015X"
      },
      "source": [
        "uw_age = df['uwscore'].div(df['age'])\n",
        "df['uw_age'] = uw_age"
      ],
      "execution_count": null,
      "outputs": []
    },
    {
      "cell_type": "code",
      "metadata": {
        "id": "4sT2BVPl015c"
      },
      "source": [
        "uw_age = tst['uwscore'].div(tst['age'])\n",
        "tst['uw_age'] = uw_age"
      ],
      "execution_count": null,
      "outputs": []
    },
    {
      "cell_type": "markdown",
      "metadata": {
        "id": "zHFWV5r0015g"
      },
      "source": [
        "# New Feature for total no. of premiums for policy"
      ]
    },
    {
      "cell_type": "code",
      "metadata": {
        "id": "R8YsNHHV015h"
      },
      "source": [
        "np_pp = []\n",
        "for i in range(0 ,len(df.ppaid)):\n",
        "    if df.iloc[i , 0] == 0:\n",
        "        np_pp.append(0)\n",
        "    else:\n",
        "        l =  (df.iloc[i , 7])/(df.iloc[i,0])\n",
        "        np_pp.append(l)\n",
        "        "
      ],
      "execution_count": null,
      "outputs": []
    },
    {
      "cell_type": "code",
      "metadata": {
        "id": "hmKc4c3z015m"
      },
      "source": [
        "np_pp"
      ],
      "execution_count": null,
      "outputs": []
    },
    {
      "cell_type": "code",
      "metadata": {
        "id": "jmbc6fHa015r"
      },
      "source": [
        "df['np_pp'] = np_pp"
      ],
      "execution_count": null,
      "outputs": []
    },
    {
      "cell_type": "code",
      "metadata": {
        "id": "ecgdOgka015y"
      },
      "source": [
        "df"
      ],
      "execution_count": null,
      "outputs": []
    },
    {
      "cell_type": "code",
      "metadata": {
        "id": "NRS2e7jO0153"
      },
      "source": [
        "np_pp = []\n",
        "for i in range(0 ,len(tst.ppaid)):\n",
        "    if tst.iloc[i , 0] == 0:\n",
        "        np_pp.append(0)\n",
        "    else:\n",
        "        l =  (tst.iloc[i , 7])/(tst.iloc[i,0])\n",
        "        np_pp.append(l)"
      ],
      "execution_count": null,
      "outputs": []
    },
    {
      "cell_type": "code",
      "metadata": {
        "id": "kh7RT_f60158"
      },
      "source": [
        "tst"
      ],
      "execution_count": null,
      "outputs": []
    },
    {
      "cell_type": "code",
      "metadata": {
        "id": "7pXgEcK7016B"
      },
      "source": [
        "tst['np_pp'] = np_pp"
      ],
      "execution_count": null,
      "outputs": []
    },
    {
      "cell_type": "code",
      "metadata": {
        "id": "o6KQybH-016G"
      },
      "source": [
        "#df = df[['index','ppaid','age','Income','late1','late2','late3','uwscore','nppaid','late_months','In_npp','uw_age','np_pp','channel','residence_area_type','target']]"
      ],
      "execution_count": null,
      "outputs": []
    },
    {
      "cell_type": "markdown",
      "metadata": {
        "id": "QvL13KPV016K"
      },
      "source": [
        "# New feature Income acc Age"
      ]
    },
    {
      "cell_type": "code",
      "metadata": {
        "id": "IVpiWaQJ016L"
      },
      "source": [
        "In_Age = df.Income.div(df.age)"
      ],
      "execution_count": null,
      "outputs": []
    },
    {
      "cell_type": "code",
      "metadata": {
        "id": "tsetX9_U016Q"
      },
      "source": [
        "df['In_Age'] = In_Age"
      ],
      "execution_count": null,
      "outputs": []
    },
    {
      "cell_type": "code",
      "metadata": {
        "id": "q3qRGT7b016V"
      },
      "source": [
        "tst['In_Age'] = tst.Income.div(tst.age)"
      ],
      "execution_count": null,
      "outputs": []
    },
    {
      "cell_type": "code",
      "metadata": {
        "id": "HaElzlPz016a"
      },
      "source": [
        "df"
      ],
      "execution_count": null,
      "outputs": []
    },
    {
      "cell_type": "code",
      "metadata": {
        "id": "Cbukq1qH016f"
      },
      "source": [
        "tst"
      ],
      "execution_count": null,
      "outputs": []
    },
    {
      "cell_type": "markdown",
      "metadata": {
        "id": "kb1AB7Pu016m"
      },
      "source": [
        "# Income late_months"
      ]
    },
    {
      "cell_type": "code",
      "metadata": {
        "id": "GpvqQcs9016n"
      },
      "source": [
        "In_late = df.late_months.div(df.Income)"
      ],
      "execution_count": null,
      "outputs": []
    },
    {
      "cell_type": "code",
      "metadata": {
        "id": "xxl1QiGm016r"
      },
      "source": [
        "df['In_late'] = In_late"
      ],
      "execution_count": null,
      "outputs": []
    },
    {
      "cell_type": "code",
      "metadata": {
        "id": "zeyfINsP016v"
      },
      "source": [
        "tst['In_late'] = tst.late_months.div(tst.Income)"
      ],
      "execution_count": null,
      "outputs": []
    },
    {
      "cell_type": "code",
      "metadata": {
        "id": "qm0Agr_q016z"
      },
      "source": [
        ""
      ],
      "execution_count": null,
      "outputs": []
    },
    {
      "cell_type": "markdown",
      "metadata": {
        "id": "ylUotK2X0163"
      },
      "source": [
        "# Scaling robust scaler on features"
      ]
    },
    {
      "cell_type": "code",
      "metadata": {
        "scrolled": true,
        "id": "ztjnlCSR0164"
      },
      "source": [
        "tst"
      ],
      "execution_count": null,
      "outputs": []
    },
    {
      "cell_type": "code",
      "metadata": {
        "id": "SaUYES9n0167"
      },
      "source": [
        "std_scaler = StandardScaler()\n",
        "rob_scaler = RobustScaler()\n",
        "minmax = MinMaxScaler()"
      ],
      "execution_count": null,
      "outputs": []
    },
    {
      "cell_type": "markdown",
      "metadata": {
        "id": "5mCG1H9T016_"
      },
      "source": [
        "# ROBSCALER"
      ]
    },
    {
      "cell_type": "code",
      "metadata": {
        "id": "5_G7HNsc016_"
      },
      "source": [
        "df['ppaid'] = rob_scaler.fit_transform(df['ppaid'].values.reshape(-1,1))\n",
        "df['age'] = rob_scaler.fit_transform(df['age'].values.reshape(-1,1))\n",
        "df['Income'] = rob_scaler.fit_transform(df['Income'].values.reshape(-1,1))\n",
        "df['late1'] = minmax.fit_transform(df['late1'].values.reshape(-1,1))\n",
        "df['late2'] = minmax.fit_transform(df['late2'].values.reshape(-1,1))\n",
        "df['late3'] = minmax.fit_transform(df['late3'].values.reshape(-1,1))\n",
        "df['uwscore'] = rob_scaler.fit_transform(df['uwscore'].values.reshape(-1,1))\n",
        "df['nppaid'] = rob_scaler.fit_transform(df['nppaid'].values.reshape(-1,1))\n",
        "df['late_months'] = minmax.fit_transform(df['late_months'].values.reshape(-1,1))\n",
        "df['In_npp'] = rob_scaler.fit_transform(df['In_npp'].values.reshape(-1,1))\n",
        "df['uw_age'] = rob_scaler.fit_transform(df['uw_age'].values.reshape(-1,1))\n",
        "df['np_pp'] = rob_scaler.fit_transform(df['np_pp'].values.reshape(-1,1))\n",
        "df['In_Age'] = rob_scaler.fit_transform(df['In_Age'].values.reshape(-1,1))\n",
        "df['In_late'] = rob_scaler.fit_transform(df['In_late'].values.reshape(-1,1))"
      ],
      "execution_count": null,
      "outputs": []
    },
    {
      "cell_type": "code",
      "metadata": {
        "id": "Ch5Yn1lV017D"
      },
      "source": [
        "tst['ppaid'] = rob_scaler.fit_transform(tst['ppaid'].values.reshape(-1,1))\n",
        "tst['age'] = rob_scaler.fit_transform(tst['age'].values.reshape(-1,1))\n",
        "tst['Income'] = rob_scaler.fit_transform(tst['Income'].values.reshape(-1,1))\n",
        "tst['late1'] = minmax.fit_transform(tst['late1'].values.reshape(-1,1))\n",
        "tst['late2'] = minmax.fit_transform(tst['late2'].values.reshape(-1,1))\n",
        "tst['late3'] = minmax.fit_transform(tst['late3'].values.reshape(-1,1))\n",
        "tst['uwscore'] = rob_scaler.fit_transform(tst['uwscore'].values.reshape(-1,1))\n",
        "tst['nppaid'] = rob_scaler.fit_transform(tst['nppaid'].values.reshape(-1,1))\n",
        "tst['late_months'] = minmax.fit_transform(tst['late_months'].values.reshape(-1,1))\n",
        "tst['In_npp'] = rob_scaler.fit_transform(tst['In_npp'].values.reshape(-1,1))\n",
        "tst['uw_age'] = rob_scaler.fit_transform(tst['uw_age'].values.reshape(-1,1))\n",
        "tst['np_pp'] = rob_scaler.fit_transform(tst['np_pp'].values.reshape(-1,1))\n",
        "tst['In_Age'] = rob_scaler.fit_transform(tst['In_Age'].values.reshape(-1,1))\n",
        "tst['In_late'] = rob_scaler.fit_transform(tst['In_late'].values.reshape(-1,1))"
      ],
      "execution_count": null,
      "outputs": []
    },
    {
      "cell_type": "code",
      "metadata": {
        "id": "dciRzxSH017G"
      },
      "source": [
        "df.head(2)"
      ],
      "execution_count": null,
      "outputs": []
    },
    {
      "cell_type": "code",
      "metadata": {
        "id": "r3-PKIho017K"
      },
      "source": [
        "tst.head(2)"
      ],
      "execution_count": null,
      "outputs": []
    },
    {
      "cell_type": "markdown",
      "metadata": {
        "id": "0cHcY262017N"
      },
      "source": [
        "# MINMAX SCALER"
      ]
    },
    {
      "cell_type": "code",
      "metadata": {
        "id": "V0JDW2dw017Q"
      },
      "source": [
        "df['uwscore'] = minmax.fit_transform(df['uwscore'].values.reshape(-1,1))\n",
        "df['nppaid'] = minmax.fit_transform(df['nppaid'].values.reshape(-1,1))\n",
        "df['late_months'] = minmax.fit_transform(df['late_months'].values.reshape(-1,1))\n",
        "df['age'] = minmax.fit_transform(df['age'].values.reshape(-1,1))\n",
        "df['Income'] = minmax.fit_transform(df['Income'].values.reshape(-1,1))\n",
        "df['ppaid'] = minmax.fit_transform(df['ppaid'].values.reshape(-1,1))\n",
        "df['late1'] = minmax.fit_transform(df['late1'].values.reshape(-1,1))\n",
        "df['late2'] = minmax.fit_transform(df['late2'].values.reshape(-1,1))\n",
        "df['late3'] = minmax.fit_transform(df['late3'].values.reshape(-1,1))\n",
        "df['In_npp'] =minmax.fit_transform(df['In_npp'].values.reshape(-1,1))"
      ],
      "execution_count": null,
      "outputs": []
    },
    {
      "cell_type": "code",
      "metadata": {
        "id": "gI_dF7x6017V"
      },
      "source": [
        "tst['uwscore'] = minmax.fit_transform(tst['uwscore'].values.reshape(-1,1))\n",
        "tst['nppaid'] = minmax.fit_transform(tst['nppaid'].values.reshape(-1,1))\n",
        "tst['late_months'] = minmax.fit_transform(tst['late_months'].values.reshape(-1,1))\n",
        "tst['age'] = minmax.fit_transform(tst['age'].values.reshape(-1,1))\n",
        "tst['Income'] = minmax.fit_transform(tst['Income'].values.reshape(-1,1))\n",
        "tst['ppaid'] = minmax.fit_transform(tst['ppaid'].values.reshape(-1,1))\n",
        "tst['late1'] = minmax.fit_transform(tst['late1'].values.reshape(-1,1))\n",
        "tst['late2'] = minmax.fit_transform(tst['late2'].values.reshape(-1,1))\n",
        "tst['late3'] = minmax.fit_transform(tst['late3'].values.reshape(-1,1))\n",
        "tst['In_npp'] =minmax.fit_transform(tst['In_npp'].values.reshape(-1,1))"
      ],
      "execution_count": null,
      "outputs": []
    },
    {
      "cell_type": "code",
      "metadata": {
        "id": "xLiQVebd017X"
      },
      "source": [
        "#tst['late1_1'] = minmax.fit_transform(tst['late1'].values.reshape(-1,1))\n",
        "#tst['late2_1'] = minmax.fit_transform(tst['late2'].values.reshape(-1,1))\n",
        "#tst['late3_1'] = minmax.fit_transform(tst['late3'].values.reshape(-1,1))\n",
        "#tst['In_npp'] = minmax.fit_transform(tst['In_npp'].values.reshape(-1,1))"
      ],
      "execution_count": null,
      "outputs": []
    },
    {
      "cell_type": "markdown",
      "metadata": {
        "id": "otHbPeB8017c"
      },
      "source": [
        "# Std Scaler"
      ]
    },
    {
      "cell_type": "code",
      "metadata": {
        "id": "a2YthbUI017d"
      },
      "source": [
        "tst['ppaid'] = std_scaler.fit_transform(tst['ppaid'].values.reshape(-1,1))\n",
        "tst['age'] = std_scaler.fit_transform(tst['age'].values.reshape(-1,1))\n",
        "tst['Income'] = std_scaler.fit_transform(tst['Income'].values.reshape(-1,1))\n",
        "tst['late1'] = minmax.fit_transform(tst['late1'].values.reshape(-1,1))\n",
        "tst['late2'] =  minmax.fit_transform(tst['late2'].values.reshape(-1,1))\n",
        "tst['late3'] =  minmax.fit_transform(tst['late3'].values.reshape(-1,1))\n",
        "tst['uwscore'] =  std_scaler.fit_transform(tst['uwscore'].values.reshape(-1,1))\n",
        "tst['nppaid'] =  std_scaler.fit_transform(tst['nppaid'].values.reshape(-1,1))\n",
        "tst['late_months'] =  minmax.fit_transform(tst['late_months'].values.reshape(-1,1))\n",
        "tst['In_npp'] =  std_scaler.fit_transform(tst['In_npp'].values.reshape(-1,1))\n",
        "tst['uw_age'] =  std_scaler.fit_transform(tst['uw_age'].values.reshape(-1,1))\n",
        "tst['np_pp'] =  std_scaler.fit_transform(tst['np_pp'].values.reshape(-1,1))\n",
        "tst['In_late'] = std_scaler.fit_transform(tst['In_late'].values.reshape(-1,1))"
      ],
      "execution_count": null,
      "outputs": []
    },
    {
      "cell_type": "code",
      "metadata": {
        "id": "XjfLyelB017f"
      },
      "source": [
        "df['ppaid'] = std_scaler.fit_transform(df['ppaid'].values.reshape(-1,1))\n",
        "df['age'] = std_scaler.fit_transform(df['age'].values.reshape(-1,1))\n",
        "df['Income'] = std_scaler.fit_transform(df['Income'].values.reshape(-1,1))\n",
        "df['late1'] = std_scaler.fit_transform(df['late1'].values.reshape(-1,1))\n",
        "df['late2'] =  std_scaler.fit_transform(df['late2'].values.reshape(-1,1))\n",
        "df['late3'] =  std_scaler.fit_transform(df['late3'].values.reshape(-1,1))\n",
        "df['uwscore'] =  std_scaler.fit_transform(df['uwscore'].values.reshape(-1,1))\n",
        "df['nppaid'] =  std_scaler.fit_transform(df['nppaid'].values.reshape(-1,1))\n",
        "df['late_months'] =  std_scaler.fit_transform(df['late_months'].values.reshape(-1,1))\n",
        "df['In_npp'] =  std_scaler.fit_transform(df['In_npp'].values.reshape(-1,1))\n",
        "df['uw_age'] =  std_scaler.fit_transform(df['uw_age'].values.reshape(-1,1))\n",
        "df['np_pp'] =  std_scaler.fit_transform(df['np_pp'].values.reshape(-1,1))\n",
        "df['In_late'] = std_scaler.fit_transform(df['In_late'].values.reshape(-1,1))"
      ],
      "execution_count": null,
      "outputs": []
    },
    {
      "cell_type": "code",
      "metadata": {
        "id": "C-Ijsuya017l"
      },
      "source": [
        "tst.describe()"
      ],
      "execution_count": null,
      "outputs": []
    },
    {
      "cell_type": "code",
      "metadata": {
        "id": "5adFtzf5017s"
      },
      "source": [
        "df.drop(['ppaid','age','Income','late1','late2','late3','uwscore','nppaid','late_months'], axis=1, inplace=True)"
      ],
      "execution_count": null,
      "outputs": []
    },
    {
      "cell_type": "code",
      "metadata": {
        "id": "Y2kurXQO017v"
      },
      "source": [
        "tst.drop(['ppaid','age','Income','late1','late2','late3','uwscore','nppaid','late_months'], axis=1, inplace=True)"
      ],
      "execution_count": null,
      "outputs": []
    },
    {
      "cell_type": "code",
      "metadata": {
        "id": "NUlg2gpm017z"
      },
      "source": [
        "df"
      ],
      "execution_count": null,
      "outputs": []
    },
    {
      "cell_type": "code",
      "metadata": {
        "id": "J6o0eQcY0174"
      },
      "source": [
        "tst"
      ],
      "execution_count": null,
      "outputs": []
    },
    {
      "cell_type": "code",
      "metadata": {
        "id": "93SBSTy40178"
      },
      "source": [
        "df = df[['ppaid_1','age_1','Income_1','late1_1','late2_1','late3_1','uwscore_1','nppaid_1','late_months_1','In_npp','uw_age','np_pp','channel','residence_area_type','target']]"
      ],
      "execution_count": null,
      "outputs": []
    },
    {
      "cell_type": "code",
      "metadata": {
        "id": "5Y9cXqp-017_"
      },
      "source": [
        "tst = tst[['ppaid_1','age_1','Income_1','late1_1','late2_1','late3_1','uwscore_1','nppaid_1','late_months_1','In_npp','uw_age','np_pp','channel','residence_area_type']]"
      ],
      "execution_count": null,
      "outputs": []
    },
    {
      "cell_type": "code",
      "metadata": {
        "id": "I0lI9q83018E"
      },
      "source": [
        "df "
      ],
      "execution_count": null,
      "outputs": []
    },
    {
      "cell_type": "code",
      "metadata": {
        "id": "HLPWL7H0018I"
      },
      "source": [
        "tst"
      ],
      "execution_count": null,
      "outputs": []
    },
    {
      "cell_type": "code",
      "metadata": {
        "id": "7xA_s7ws018L"
      },
      "source": [
        "df = df.drop('index' , axis = 1)"
      ],
      "execution_count": null,
      "outputs": []
    },
    {
      "cell_type": "markdown",
      "metadata": {
        "id": "Sm5Vuqm2018O"
      },
      "source": [
        "# performing test train splitting"
      ]
    },
    {
      "cell_type": "code",
      "metadata": {
        "id": "yrO8TBvO018P"
      },
      "source": [
        "X = df.drop('target', axis=1)\n",
        "y = df['target']"
      ],
      "execution_count": null,
      "outputs": []
    },
    {
      "cell_type": "code",
      "metadata": {
        "id": "Zk9yfYFU018S"
      },
      "source": [
        "sss =  StratifiedShuffleSplit(n_splits=5, random_state=None, test_size=0.33)\n",
        "\n",
        "for train_index, test_index in sss.split(X, y):\n",
        "    print(\"Train:\", train_index, \"Test:\", test_index)\n",
        "    original_Xtrain, original_Xtest = X.iloc[train_index], X.iloc[test_index]\n",
        "    original_ytrain, original_ytest = y.iloc[train_index], y.iloc[test_index]"
      ],
      "execution_count": null,
      "outputs": []
    },
    {
      "cell_type": "code",
      "metadata": {
        "id": "DAsGJQ4f018V"
      },
      "source": [
        "train_unique_label, train_counts_label = np.unique(original_ytrain, return_counts=True)\n",
        "test_unique_label, test_counts_label = np.unique(original_ytest, return_counts=True)\n",
        "print('-' * 100)\n",
        "\n",
        "print('Label Distributions: \\n')\n",
        "print(train_counts_label/ len(original_ytrain))\n",
        "print(test_counts_label/ len(original_ytest))"
      ],
      "execution_count": null,
      "outputs": []
    },
    {
      "cell_type": "code",
      "metadata": {
        "id": "K4WptKDx018c"
      },
      "source": [
        "original_Xtrain"
      ],
      "execution_count": null,
      "outputs": []
    },
    {
      "cell_type": "code",
      "metadata": {
        "id": "bJrihdAG018g"
      },
      "source": [
        "original_Xtest"
      ],
      "execution_count": null,
      "outputs": []
    },
    {
      "cell_type": "code",
      "metadata": {
        "id": "FERCEFyF018j"
      },
      "source": [
        "tst"
      ],
      "execution_count": null,
      "outputs": []
    },
    {
      "cell_type": "markdown",
      "metadata": {
        "id": "DbihSXIw018n"
      },
      "source": [
        "# Lable Encoding"
      ]
    },
    {
      "cell_type": "code",
      "metadata": {
        "id": "GsLYD61M018n"
      },
      "source": [
        "from sklearn.preprocessing import LabelEncoder\n",
        "enco = LabelEncoder()\n",
        "\n",
        "original_Xtrain['residence_area_type']  = np.array(enco.fit_transform(original_Xtrain['residence_area_type']))\n"
      ],
      "execution_count": null,
      "outputs": []
    },
    {
      "cell_type": "code",
      "metadata": {
        "id": "hUvDCIff018q"
      },
      "source": [
        "#original_Xtest['channel']  = np.array(enco.fit_transform(original_Xtest['channel']))\n",
        "original_Xtest['residence_area_type']  = np.array(enco.fit_transform(original_Xtest['residence_area_type']))"
      ],
      "execution_count": null,
      "outputs": []
    },
    {
      "cell_type": "code",
      "metadata": {
        "id": "F3_0J29E018u"
      },
      "source": [
        "#tst['channel']  = np.array(enco.fit_transform(tst['channel']))\n",
        "tst['residence_area_type']  = np.array(enco.fit_transform(tst['residence_area_type']))"
      ],
      "execution_count": null,
      "outputs": []
    },
    {
      "cell_type": "code",
      "metadata": {
        "id": "MyT5YfDD018y"
      },
      "source": [
        "original_Xtrain['channel']  = np.array(enco.fit_transform(original_Xtrain['channel']))\n",
        "original_Xtest['channel']  = np.array(enco.fit_transform(original_Xtest['channel']))\n",
        "tst['channel']  = np.array(enco.fit_transform(tst['channel']))"
      ],
      "execution_count": null,
      "outputs": []
    },
    {
      "cell_type": "code",
      "metadata": {
        "id": "hE4Vyj4s0182"
      },
      "source": [
        "original_Xtest.channel.value_counts()"
      ],
      "execution_count": null,
      "outputs": []
    },
    {
      "cell_type": "markdown",
      "metadata": {
        "id": "y67AxWy70187"
      },
      "source": [
        "# Using Dummy Variables"
      ]
    },
    {
      "cell_type": "code",
      "metadata": {
        "id": "kK3Gw3-z0187"
      },
      "source": [
        "original_Xtrain = pd.get_dummies(original_Xtrain)\n",
        "original_Xtest = pd.get_dummies(original_Xtest)"
      ],
      "execution_count": null,
      "outputs": []
    },
    {
      "cell_type": "code",
      "metadata": {
        "id": "lAZ8eaL4018-"
      },
      "source": [
        "tst = pd.get_dummies(tst)"
      ],
      "execution_count": null,
      "outputs": []
    },
    {
      "cell_type": "code",
      "metadata": {
        "id": "bQM8dmeW019E"
      },
      "source": [
        "tst"
      ],
      "execution_count": null,
      "outputs": []
    },
    {
      "cell_type": "code",
      "metadata": {
        "id": "va3FMFlD019H"
      },
      "source": [
        "#original_Xtrain"
      ],
      "execution_count": null,
      "outputs": []
    },
    {
      "cell_type": "code",
      "metadata": {
        "id": "uM9HVn2o019L"
      },
      "source": [
        "original_ytrain"
      ],
      "execution_count": null,
      "outputs": []
    },
    {
      "cell_type": "code",
      "metadata": {
        "id": "ZAQaz1kd019Q"
      },
      "source": [
        "original_Xtrain.drop([ 'residence_area_type_Urban','channel_E' ], axis=1, inplace=True)\n",
        "original_Xtest.drop([ 'residence_area_type_Urban','channel_E' ], axis=1, inplace=True)\n"
      ],
      "execution_count": null,
      "outputs": []
    },
    {
      "cell_type": "code",
      "metadata": {
        "id": "y0FdNXl1019S"
      },
      "source": [
        "tst.drop([ 'residence_area_type_Urban','channel_E'  ], axis=1, inplace=True)"
      ],
      "execution_count": null,
      "outputs": []
    },
    {
      "cell_type": "code",
      "metadata": {
        "id": "cgg-QsaO019V"
      },
      "source": [
        "original_Xtest"
      ],
      "execution_count": null,
      "outputs": []
    },
    {
      "cell_type": "markdown",
      "metadata": {
        "id": "haytr4-C019Y"
      },
      "source": [
        "# XGBOOST MERI JAAAN"
      ]
    },
    {
      "cell_type": "code",
      "metadata": {
        "id": "IkUPLLQc019Y"
      },
      "source": [
        "import xgboost as xgb\n",
        "dtrain = xgb.DMatrix(original_Xtrain,label= original_ytrain)\n",
        "dtest = xgb.DMatrix(original_Xtest, label= original_ytest)"
      ],
      "execution_count": null,
      "outputs": []
    },
    {
      "cell_type": "code",
      "metadata": {
        "id": "2BteqJqH019b"
      },
      "source": [
        "params = {\n",
        "    # Parameters that we are going to tune.\n",
        " 'learning_rate' : 0.1,\n",
        " 'n_estimators' : 1000,\n",
        " 'max_depth' : 5,\n",
        " 'min_child_weight' :1,\n",
        " 'gamma' : 0,\n",
        " 'subsample':0.8,\n",
        " 'colsample_bytree':0.8,\n",
        " 'objective' :'binary:logistic',\n",
        " 'nthread' : 4,\n",
        " 'scale_pos_weight' : 1,\n",
        " 'seed': 27\n",
        "}"
      ],
      "execution_count": null,
      "outputs": []
    },
    {
      "cell_type": "code",
      "metadata": {
        "id": "6LkBNuCR019d"
      },
      "source": [
        "params['eval_metric'] = \"auc\""
      ],
      "execution_count": null,
      "outputs": []
    },
    {
      "cell_type": "code",
      "metadata": {
        "id": "R8KpiJoc019f"
      },
      "source": [
        "num_boost_round = 999"
      ],
      "execution_count": null,
      "outputs": []
    },
    {
      "cell_type": "code",
      "metadata": {
        "id": "b2GdbHHR019h"
      },
      "source": [
        "model = xgb.train(\n",
        "    params,\n",
        "    dtrain,\n",
        "    num_boost_round=num_boost_round,\n",
        "    evals=[(dtest, \"Test\")],\n",
        "    early_stopping_rounds=100\n",
        "    \n",
        ")\n",
        "xgb.plot_importance(model)"
      ],
      "execution_count": null,
      "outputs": []
    },
    {
      "cell_type": "code",
      "metadata": {
        "id": "CGwpTCR8019i"
      },
      "source": [
        "cv_results = xgb.cv(\n",
        "    params,\n",
        "    dtrain,\n",
        "    num_boost_round=num_boost_round,\n",
        "    seed=42,\n",
        "    nfold=5,\n",
        "    metrics={'auc'},\n",
        "    early_stopping_rounds=50\n",
        ")\n",
        "cv_results"
      ],
      "execution_count": null,
      "outputs": []
    },
    {
      "cell_type": "code",
      "metadata": {
        "id": "R68dnBw0019m"
      },
      "source": [
        "cv_results['test-auc-mean'].max()"
      ],
      "execution_count": null,
      "outputs": []
    },
    {
      "cell_type": "markdown",
      "metadata": {
        "id": "2_Y5odPE019o"
      },
      "source": [
        "# Grid_Search CV for optimization of base model"
      ]
    },
    {
      "cell_type": "code",
      "metadata": {
        "id": "wrXhQE9C4sdq"
      },
      "source": [
        "params = {\n",
        "    # Parameters that we are going to tune.\n",
        " 'learning_rate' : 0.1,\n",
        " 'n_estimators' : 83,\n",
        " 'max_depth' : 5,\n",
        " 'min_child_weight' :1,\n",
        " 'gamma' : 0,\n",
        " 'subsample':0.8,\n",
        " 'colsample_bytree':0.8,\n",
        " 'objective' :'binary:logistic',\n",
        " 'nthread' : 4,\n",
        " 'scale_pos_weight' : 1,\n",
        " 'seed': 27\n",
        "}"
      ],
      "execution_count": null,
      "outputs": []
    },
    {
      "cell_type": "code",
      "metadata": {
        "id": "CEylv0lK63Vr"
      },
      "source": [
        "param_test1 = {\n",
        " 'max_depth':range(3,10,2),\n",
        " 'min_child_weight':range(1,6,2)\n",
        "}\n",
        "gsearch1 = GridSearchCV(estimator = XGBClassifier( learning_rate =0.1, n_estimators=45, max_depth=5,\n",
        " min_child_weight=1, gamma=0, subsample=0.8, colsample_bytree=0.8,\n",
        " objective= 'binary:logistic', nthread=4, scale_pos_weight=1, seed=27), \n",
        " param_grid = param_test1, scoring='roc_auc',n_jobs=4,iid=False, cv=5)\n",
        "gsearch1.fit(original_Xtrain, original_ytrain)\n",
        "gsearch1.best_params_, gsearch1.best_score_"
      ],
      "execution_count": null,
      "outputs": []
    },
    {
      "cell_type": "code",
      "metadata": {
        "id": "9AyMozVz7fe8"
      },
      "source": [
        "param_test2 = {\n",
        " 'max_depth':[4,5,6],\n",
        " 'min_child_weight':[1,2,3]\n",
        "}\n",
        "gsearch2 = GridSearchCV(estimator = XGBClassifier( learning_rate=0.1, n_estimators=45, max_depth=5,\n",
        " min_child_weight=1, gamma=0, subsample=0.8, colsample_bytree=0.8,\n",
        " objective= 'binary:logistic', nthread=4, scale_pos_weight=1,seed=27), \n",
        " param_grid = param_test2, scoring='roc_auc',n_jobs=4,iid=False, cv=5)\n",
        "gsearch2.fit(original_Xtrain, original_ytrain)\n",
        "gsearch2.best_params_, gsearch2.best_score_"
      ],
      "execution_count": null,
      "outputs": []
    },
    {
      "cell_type": "code",
      "metadata": {
        "id": "2vZUYFZf9Kzw"
      },
      "source": [
        "param_test2b = {\n",
        " 'min_child_weight':[2,3,4]\n",
        "}\n",
        "gsearch2b = GridSearchCV(estimator = XGBClassifier( learning_rate=0.1, n_estimators=45, max_depth=5,\n",
        " min_child_weight=1, gamma=0, subsample=0.8, colsample_bytree=0.8,\n",
        " objective= 'binary:logistic', nthread=4, scale_pos_weight=1,seed=27), \n",
        " param_grid = param_test2b, scoring='roc_auc',n_jobs=4,iid=False, cv=5)\n",
        "gsearch2b.fit(original_Xtrain, original_ytrain)\n",
        "gsearch2b.best_params_, gsearch2b.best_score_"
      ],
      "execution_count": null,
      "outputs": []
    },
    {
      "cell_type": "markdown",
      "metadata": {
        "id": "-b_MfxHV9_3v"
      },
      "source": [
        "Tunnning GAMMA"
      ]
    },
    {
      "cell_type": "code",
      "metadata": {
        "id": "vr9f0MiO9K4T"
      },
      "source": [
        "param_test3 = {\n",
        " 'gamma':[i/10.0 for i in range(0,5)]\n",
        "}\n",
        "gsearch3 = GridSearchCV(estimator = XGBClassifier( learning_rate =0.1, n_estimators=45, max_depth=5,\n",
        " min_child_weight=1, gamma=0, subsample=0.8, colsample_bytree=0.8,\n",
        " objective= 'binary:logistic', nthread=4, scale_pos_weight=1,seed=27), \n",
        " param_grid = param_test3, scoring='roc_auc',n_jobs=4,iid=False, cv=5)\n",
        "gsearch3.fit(original_Xtrain, original_ytrain)\n",
        "gsearch3.best_params_, gsearch3.best_score_"
      ],
      "execution_count": null,
      "outputs": []
    },
    {
      "cell_type": "code",
      "metadata": {
        "id": "-pYsr-r9-cTz"
      },
      "source": [
        "params = {\n",
        "    # Parameters that we are going to tune.\n",
        " 'learning_rate' : 0.1,\n",
        " 'n_estimators' : 1000,\n",
        " 'max_depth' : 5,\n",
        " 'eval_metric' : 'auc',\n",
        " 'min_child_weight' :4,\n",
        " 'gamma' : 0,\n",
        " 'subsample':0.8,\n",
        " 'colsample_bytree':0.8,\n",
        " 'objective' :'binary:logistic',\n",
        " 'nthread' : 4,\n",
        " 'scale_pos_weight' : 1,\n",
        " 'seed': 27\n",
        "}"
      ],
      "execution_count": null,
      "outputs": []
    },
    {
      "cell_type": "code",
      "metadata": {
        "id": "YRIQ8gb2-cnN"
      },
      "source": [
        "model = xgb.train(\n",
        "    params,\n",
        "    dtrain,\n",
        "    num_boost_round=10000,\n",
        "    evals=[(dtest, \"Test\")],\n",
        "    early_stopping_rounds=100\n",
        "    \n",
        ")\n",
        "xgb.plot_importance(model)"
      ],
      "execution_count": null,
      "outputs": []
    },
    {
      "cell_type": "markdown",
      "metadata": {
        "id": "WLE8byFF_Vkc"
      },
      "source": [
        "Tune subsample and colsample_bytree"
      ]
    },
    {
      "cell_type": "code",
      "metadata": {
        "id": "LfAtMbwH-ckg"
      },
      "source": [
        "param_test4 = {\n",
        " 'subsample':[i/10.0 for i in range(2,10)],\n",
        " 'colsample_bytree':[i/10.0 for i in range(2,10)]\n",
        "}\n",
        "gsearch4 = GridSearchCV(estimator = XGBClassifier( learning_rate =0.1, n_estimators=45, max_depth=5,\n",
        " min_child_weight= 1, gamma=0, subsample=0.8, colsample_bytree=0.8,\n",
        " objective= 'binary:logistic', nthread=4, scale_pos_weight=1,seed=27), \n",
        " param_grid = param_test4, scoring='roc_auc',n_jobs=4,iid=False, cv=5)\n",
        "gsearch4.fit(original_Xtrain, original_ytrain)\n",
        "gsearch4.best_params_, gsearch4.best_score_"
      ],
      "execution_count": null,
      "outputs": []
    },
    {
      "cell_type": "code",
      "metadata": {
        "id": "BYg_sAcm-cgI"
      },
      "source": [
        "param_test5 = {\n",
        " 'subsample':[i/100.0 for i in range(65,85,5)],\n",
        " 'colsample_bytree':[i/100.0 for i in range(85,95,5)]\n",
        "}\n",
        "gsearch5 = GridSearchCV(estimator = XGBClassifier( learning_rate =0.1, n_estimators=45, max_depth=5,\n",
        " min_child_weight=1, gamma=0, subsample=0.8, colsample_bytree=0.8,\n",
        " objective= 'binary:logistic', nthread=4, scale_pos_weight=1,seed=27), \n",
        " param_grid = param_test5, scoring='roc_auc',n_jobs=4,iid=False, cv=5)\n",
        "gsearch5.fit(original_Xtrain, original_ytrain)\n",
        "gsearch5.best_params_, gsearch5.best_score_"
      ],
      "execution_count": null,
      "outputs": []
    },
    {
      "cell_type": "markdown",
      "metadata": {
        "id": "P7Ha1JoHCH8R"
      },
      "source": [
        " Tuning Regularization Parameters"
      ]
    },
    {
      "cell_type": "code",
      "metadata": {
        "id": "-RhT3dIpCHFZ"
      },
      "source": [
        "param_test6 = {\n",
        " 'reg_alpha':[1e-5, 1e-2, 0.1, 1, 100]\n",
        "}\n",
        "gsearch6 = GridSearchCV(estimator = XGBClassifier( learning_rate =0.1, n_estimators=45, max_depth=5,\n",
        " min_child_weight=1, gamma=0, subsample=0.8, colsample_bytree=0.8,\n",
        " objective= 'binary:logistic', nthread=4, scale_pos_weight=1,seed=27), \n",
        " param_grid = param_test6, scoring='roc_auc',n_jobs=4,iid=False, cv=5)\n",
        "gsearch6.fit(original_Xtrain, original_ytrain)\n",
        "gsearch6.best_params_, gsearch6.best_score_"
      ],
      "execution_count": null,
      "outputs": []
    },
    {
      "cell_type": "code",
      "metadata": {
        "id": "Q_BWsgLY-cdM"
      },
      "source": [
        "# Better Performance (Best Model)\n",
        "param_test7 = {\n",
        " 'reg_alpha':[0.001,0.005,0.01,0.1,0.5] # Furter comes out to be 0.01\n",
        "}\n",
        "gsearch7 = GridSearchCV(estimator = XGBClassifier( learning_rate =0.1, n_estimators=57, max_depth=4,\n",
        " min_child_weight=4, gamma=0.2, subsample=0.65, colsample_bytree=0.85,\n",
        " objective= 'binary:logistic', nthread=4, scale_pos_weight=1,seed=27), \n",
        " param_grid = param_test7, scoring='roc_auc',n_jobs=4,iid=False, cv=5)\n",
        "gsearch7.fit(original_Xtrain, original_ytrain)\n",
        "gsearch7.best_params_, gsearch7.best_score_"
      ],
      "execution_count": null,
      "outputs": []
    },
    {
      "cell_type": "code",
      "metadata": {
        "id": "T_HFa3w3-cZx"
      },
      "source": [
        "params = {\n",
        " # Parameters that we are going to tune.\n",
        " 'learning_rate' : 0.005,\n",
        " 'n_estimators' : 1000,\n",
        " 'max_depth' : 4,\n",
        " 'eval_metric' : 'auc',\n",
        " 'min_child_weight' :4,\n",
        " 'gamma' : 0.2,\n",
        " 'subsample':0.65,\n",
        " 'colsample_bytree':0.85,\n",
        "  'reg_alpha':0.01,\n",
        " 'objective' :'binary:logistic',\n",
        " 'nthread' : 4,\n",
        " 'scale_pos_weight' : 1,\n",
        " 'seed': 27\n",
        "}"
      ],
      "execution_count": null,
      "outputs": []
    },
    {
      "cell_type": "code",
      "metadata": {
        "id": "Ei4HQZbB-cAq"
      },
      "source": [
        "model = xgb.train(\n",
        "    params,\n",
        "    dtrain,\n",
        "    num_boost_round=4000,\n",
        "    evals=[(dtest, \"Test\")],\n",
        "    early_stopping_rounds=100\n",
        "    \n",
        ")\n",
        "xgb.plot_importance(model)"
      ],
      "execution_count": null,
      "outputs": []
    },
    {
      "cell_type": "code",
      "metadata": {
        "id": "xiyml3hQEJn6"
      },
      "source": [
        ""
      ],
      "execution_count": null,
      "outputs": []
    },
    {
      "cell_type": "code",
      "metadata": {
        "id": "z1J18tIwEJzT"
      },
      "source": [
        ""
      ],
      "execution_count": null,
      "outputs": []
    },
    {
      "cell_type": "code",
      "metadata": {
        "id": "lqqdw-lfEJ85"
      },
      "source": [
        ""
      ],
      "execution_count": null,
      "outputs": []
    },
    {
      "cell_type": "code",
      "metadata": {
        "id": "HIyTZn4TEJvQ"
      },
      "source": [
        ""
      ],
      "execution_count": null,
      "outputs": []
    },
    {
      "cell_type": "code",
      "metadata": {
        "id": "Xsvk693iEJtV"
      },
      "source": [
        ""
      ],
      "execution_count": null,
      "outputs": []
    },
    {
      "cell_type": "code",
      "metadata": {
        "id": "HwLGMCiaEJki"
      },
      "source": [
        ""
      ],
      "execution_count": null,
      "outputs": []
    },
    {
      "cell_type": "code",
      "metadata": {
        "id": "vJkMqZ8K019s"
      },
      "source": [
        "params['max_depth'] = 6\n",
        "params['min_child_weight'] = 9"
      ],
      "execution_count": null,
      "outputs": []
    },
    {
      "cell_type": "code",
      "metadata": {
        "id": "MljhIB3H019u"
      },
      "source": [
        "# Tunning for sub_sample and Colsample\n",
        "gridsearch_params = [\n",
        "    (subsample, colsample)\n",
        "    for subsample in [i/10. for i in range(7,11)]\n",
        "    for colsample in [i/10. for i in range(7,11)]\n",
        "]"
      ],
      "execution_count": null,
      "outputs": []
    },
    {
      "cell_type": "code",
      "metadata": {
        "id": "W7-7-77N019z"
      },
      "source": [
        "max_auc = float(\"Inf\")\n",
        "best_params = None\n",
        "for subsample, colsample in gridsearch_params:\n",
        "    print(\"CV with subsample={}, colsample={}\".format(\n",
        "                             subsample,\n",
        "                             colsample))\n",
        "    # Update our parameters\n",
        "    params['subsample'] = subsample\n",
        "    params['colsample'] = colsample\n",
        "    # Run CV\n",
        "    cv_results = xgb.cv(\n",
        "        params,\n",
        "        dtrain,\n",
        "        num_boost_round=num_boost_round,\n",
        "        seed=42,\n",
        "        nfold=5,\n",
        "        metrics={'auc'},\n",
        "        early_stopping_rounds=50\n",
        "    )\n",
        "    # Update best MAE\n",
        "    mean_auc = cv_results['test-auc-mean'].max()\n",
        "    boost_rounds = cv_results['test-auc-mean'].argmax()\n",
        "    print(\"\\tAUC {} for {} rounds\".format(mean_auc, boost_rounds))\n",
        "    if mean_auc < max_auc:\n",
        "        max_auc = mean_auc\n",
        "        best_params = (subsample,colsample)\n",
        "print(\"Best params: {}, {}, AUC: {}\".format(best_params[0], best_params[1], max_auc))"
      ],
      "execution_count": null,
      "outputs": []
    },
    {
      "cell_type": "code",
      "metadata": {
        "id": "OZK9ZfSx0192"
      },
      "source": [
        "params['subsample'] = 0.7\n",
        "params['colsample_bytree'] = 0.7"
      ],
      "execution_count": null,
      "outputs": []
    },
    {
      "cell_type": "code",
      "metadata": {
        "id": "1CC_Rhjg0194"
      },
      "source": [
        "max_auc = float(\"Inf\")\n",
        "best_params = None\n",
        "for eta in [.05, .01, .005,0.001]:\n",
        "    print(\"CV with eta={}\".format(eta))\n",
        "    # Update our parameters\n",
        "    params['eta'] = eta\n",
        "    \n",
        "    # Run CV\n",
        "    cv_results = xgb.cv(\n",
        "        params,\n",
        "        dtrain,\n",
        "        num_boost_round=num_boost_round,\n",
        "        seed=42,\n",
        "        nfold=5,\n",
        "        metrics={'auc'},\n",
        "        early_stopping_rounds=50\n",
        "    )\n",
        "    # Update best MAE\n",
        "    mean_auc = cv_results['test-auc-mean'].max()\n",
        "    boost_rounds = cv_results['test-auc-mean'].argmax()\n",
        "    print(\"\\tAUC {} for {} rounds\".format(mean_auc, boost_rounds))\n",
        "    if mean_auc < max_auc:\n",
        "        max_auc = mean_auc\n",
        "        best_params = (eta)\n",
        "print(\"Best params: {}, {}, AUC: {}\".format(best_params, max_auc))"
      ],
      "execution_count": null,
      "outputs": []
    },
    {
      "cell_type": "code",
      "metadata": {
        "id": "aScSBsvR0197"
      },
      "source": [
        "params['eta'] = 0.005"
      ],
      "execution_count": null,
      "outputs": []
    },
    {
      "cell_type": "code",
      "metadata": {
        "id": "s-0Ih3pV0199"
      },
      "source": [
        "params\n",
        "{'colsample_bytree': 0.5,\n",
        " 'eta': 0.001,\n",
        " 'eval_metric': 'auc',\n",
        " 'max_depth': 15,\n",
        " 'min_child_weight': 3,\n",
        " 'gamma': 6,\n",
        " 'n_estimator': 280,\n",
        " 'objective': 'binary:logistic',\n",
        " 'subsample': 0.5}"
      ],
      "execution_count": null,
      "outputs": []
    },
    {
      "cell_type": "code",
      "metadata": {
        "scrolled": false,
        "id": "R2JJJOzg019_"
      },
      "source": [
        "model = xgb.train(\n",
        "    params,\n",
        "    dtrain,\n",
        "    num_boost_round=num_boost_round,\n",
        "    evals=[(dtest, \"Test\")],\n",
        "    early_stopping_rounds=50\n",
        ")"
      ],
      "execution_count": null,
      "outputs": []
    },
    {
      "cell_type": "markdown",
      "metadata": {
        "id": "dmD_zNiy01-B"
      },
      "source": [
        "# SMOTE APPlication"
      ]
    },
    {
      "cell_type": "code",
      "metadata": {
        "id": "1BJC_uZg01-B"
      },
      "source": [
        "#sm = SMOTE(random_state = 12 )\n",
        "#X_train , y_train = sm.fit_sample(original_Xtrain, original_ytrain)\n",
        "\n"
      ],
      "execution_count": null,
      "outputs": []
    },
    {
      "cell_type": "code",
      "metadata": {
        "id": "IAwrJh7f01-D"
      },
      "source": [
        "#print(\"After OverSampling, counts of label '1': {}\".format(sum(y_train==1)))\n",
        "#print(\"After OverSampling, counts of label '0': {}\".format(sum(y_train==0)))"
      ],
      "execution_count": null,
      "outputs": []
    },
    {
      "cell_type": "markdown",
      "metadata": {
        "id": "FVg-MDDs01-G"
      },
      "source": [
        "# LightGBM"
      ]
    },
    {
      "cell_type": "code",
      "metadata": {
        "id": "1SkHDr9W01-G"
      },
      "source": [
        "import lightgbm\n",
        "\n",
        "\n",
        "\n",
        "#categorical_features = ['channel','residence_area_type']\n",
        "\n",
        "train_data = lightgbm.Dataset(original_Xtrain,label= original_ytrain)\n",
        "test_data = lightgbm.Dataset(original_Xtest, label= original_ytest)\n",
        "\n",
        "\n",
        "parameters = {\n",
        "    'application': 'binary',\n",
        "    'objective': 'binary',\n",
        "    'metric': 'auc',\n",
        "    'is_unbalance': 'true',\n",
        "    'boosting': 'gbdt',\n",
        "    'num_leaves': 31,\n",
        "    'feature_fraction': 0.5,\n",
        "    'bagging_fraction': 0.5,\n",
        "    'bagging_freq': 20,\n",
        "    'learning_rate': 0.001,\n",
        "    'verbose': 0,\n",
        "    'max_bin' : 300\n",
        "    \n",
        "}\n",
        "evals_results = {}\n",
        "\n",
        "model = lightgbm.train(parameters,\n",
        "                       train_data,\n",
        "                       valid_sets=test_data,\n",
        "                       evals_result=evals_results,\n",
        "                       num_boost_round=5000,\n",
        "                       early_stopping_rounds=100)"
      ],
      "execution_count": null,
      "outputs": []
    },
    {
      "cell_type": "code",
      "metadata": {
        "id": "7nbsj4WA01-I"
      },
      "source": [
        "y_pred = model.predict(original_Xtest)\n",
        "\n",
        "print(roc_auc_score(original_ytest, y_pred))"
      ],
      "execution_count": null,
      "outputs": []
    },
    {
      "cell_type": "markdown",
      "metadata": {
        "id": "BdhnO-in01-K"
      },
      "source": [
        "# Predicting tst "
      ]
    },
    {
      "cell_type": "code",
      "metadata": {
        "id": "3x22Lyeq01-L"
      },
      "source": [
        "y_pred = model.predict(tst)"
      ],
      "execution_count": null,
      "outputs": []
    },
    {
      "cell_type": "markdown",
      "metadata": {
        "id": "S4-ZJ5to01-N"
      },
      "source": [
        "# End Conversion to csv file for Submission"
      ]
    },
    {
      "cell_type": "code",
      "metadata": {
        "id": "6PoSzdCs01-N"
      },
      "source": [
        "dc = pd.DataFrame(test , columns = ['id'])\n",
        "\n",
        "dc['target'] = y_pred\n",
        "\n",
        "dc\n",
        "\n",
        "dc.to_csv ('D:/datasc challange/INsurance problem/finalfew.csv', index = False, header=True)"
      ],
      "execution_count": null,
      "outputs": []
    },
    {
      "cell_type": "code",
      "metadata": {
        "id": "cn-ottPQ01-S"
      },
      "source": [
        ""
      ],
      "execution_count": null,
      "outputs": []
    }
  ]
}